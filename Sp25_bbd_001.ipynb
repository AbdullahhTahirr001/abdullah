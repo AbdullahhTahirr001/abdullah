{
 "cells": [
  {
   "cell_type": "code",
   "execution_count": 1,
   "id": "dad5bfa0-f32c-4a60-a296-ac1eb9a44261",
   "metadata": {},
   "outputs": [
    {
     "name": "stdout",
     "output_type": "stream",
     "text": [
      "hello,python learners!\n"
     ]
    }
   ],
   "source": [
    "#question1\n",
    "def say_hello():\n",
    "     print('hello,python learners!')\n",
    "say_hello()"
   ]
  },
  {
   "cell_type": "code",
   "execution_count": 4,
   "id": "ea9341f9-6941-4291-89eb-8121580fd6a9",
   "metadata": {},
   "outputs": [
    {
     "name": "stdout",
     "output_type": "stream",
     "text": [
      "helloAbdullah\n"
     ]
    }
   ],
   "source": [
    "#Question2\n",
    "def greet_user(name):\n",
    " print(f'hello{name}')\n",
    "greet_user('Abdullah')"
   ]
  },
  {
   "cell_type": "code",
   "execution_count": 6,
   "id": "43a783dc-8e07-40f2-b768-adb786668551",
   "metadata": {},
   "outputs": [
    {
     "name": "stdout",
     "output_type": "stream",
     "text": [
      "have a dog.his name isjack.\n",
      "have a dog.his name isjack.\n"
     ]
    }
   ],
   "source": [
    "#question3\n",
    "def describe_pet(animal_type,pet_name):\n",
    "    print(f'have a {animal_type}.his name is{pet_name}.')\n",
    "describe_pet(\"dog\",\"jack\")\n",
    "describe_pet(animal_type='dog',pet_name='jack')"
   ]
  },
  {
   "cell_type": "code",
   "execution_count": 7,
   "id": "9b71f3f5-ab82-4b3f-a4d7-6a8c8807487e",
   "metadata": {},
   "outputs": [
    {
     "name": "stdout",
     "output_type": "stream",
     "text": [
      "i have a dog.\n"
     ]
    }
   ],
   "source": [
    "#question4\n",
    "def describe_pet(animal_type='dog'):\n",
    "     print(f'i have a {animal_type}.')\n",
    "describe_pet()"
   ]
  },
  {
   "cell_type": "code",
   "execution_count": 2,
   "id": "b71b7b2c-9a2b-4967-b7c8-19da3a106ed0",
   "metadata": {},
   "outputs": [
    {
     "data": {
      "text/plain": [
       "'Henry Peter'"
      ]
     },
     "execution_count": 2,
     "metadata": {},
     "output_type": "execute_result"
    }
   ],
   "source": [
    "#question5\n",
    "def get_formatted_name(first,last):\n",
    "    full_name=f'{first} {last}'\n",
    "    return full_name.title()\n",
    "get_formatted_name('Henry','peter')"
   ]
  },
  {
   "cell_type": "code",
   "execution_count": 13,
   "id": "0d2f75ec-1178-4d7c-ad42-4ef3fecef391",
   "metadata": {},
   "outputs": [
    {
     "name": "stdout",
     "output_type": "stream",
     "text": [
      "Umer Shahid\n",
      "Ali Asif Hamza\n"
     ]
    }
   ],
   "source": [
    "#Question6\n",
    "def get_formatted_name(first_name, last_name, middle_name=''):\n",
    "    \"\"\"Generate a neatly formatted full name.\"\"\"\n",
    "    if middle_name:\n",
    "        full_name = f\"{first_name} {middle_name} {last_name}\"\n",
    "    else:\n",
    "        full_name = f\"{first_name} {last_name}\"\n",
    "    \n",
    "    return full_name.title()\n",
    "\n",
    "# Example usage:\n",
    "print(get_formatted_name('Umer', 'shahid'))  # John Doe\n",
    "print(get_formatted_name('Ali', 'hamza', 'Asif'))  # John Paul Doe"
   ]
  },
  {
   "cell_type": "code",
   "execution_count": 11,
   "id": "ac7bebe7-f269-4cdd-91e0-d9b554dfef0a",
   "metadata": {},
   "outputs": [
    {
     "name": "stdout",
     "output_type": "stream",
     "text": [
      "{'first_name': 'sufiyan', 'last_name': 'Abdullah', 'age': 30}\n",
      "{'first_name': 'Umer', 'last_name': 'Shahid'}\n"
     ]
    }
   ],
   "source": [
    "#question7\n",
    "def build_person(first, last, age=None):\n",
    "    \"\"\"Build a dictionary representing a person.\"\"\"\n",
    "    person = {\n",
    "        'first_name': first,\n",
    "        'last_name': last,\n",
    "    }\n",
    "    \n",
    "    if age:\n",
    "        person['age'] = age\n",
    "    \n",
    "    return person\n",
    "\n",
    "# Example usage:\n",
    "person1 = build_person('sufiyan', 'Abdullah', 30)\n",
    "person2 = build_person('Umer', 'Shahid')\n",
    "\n",
    "print(person1)\n",
    "# Output: {'first_name': 'ali', 'last_name': 'ahmad', 'age': 30}\n",
    "\n",
    "print(person2)\n",
    "# Output: {'first_name': 'Jane', 'last_name': 'Smith'}"
   ]
  },
  {
   "cell_type": "code",
   "execution_count": 9,
   "id": "e20ee357-00a4-423c-aa03-218148ddb98f",
   "metadata": {},
   "outputs": [
    {
     "name": "stdout",
     "output_type": "stream",
     "text": [
      "Hello, Ali!\n",
      "Hello, Bilal!\n",
      "Hello, Chand!\n"
     ]
    }
   ],
   "source": [
    "#question8\n",
    "def greet_users(usernames):\n",
    "    \"\"\"Print a greeting for each user in the list.\"\"\"\n",
    "    for username in usernames:\n",
    "        print(f\"Hello, {username.title()}!\")\n",
    "\n",
    "# Example usage:\n",
    "usernames = ['ali', 'bilal', 'chand']\n",
    "greet_users(usernames)"
   ]
  },
  {
   "cell_type": "code",
   "execution_count": 7,
   "id": "561f747a-a6ea-4cf5-ae0b-017934f43434",
   "metadata": {},
   "outputs": [
    {
     "name": "stdout",
     "output_type": "stream",
     "text": [
      "Making a pizza with the following toppings:\n",
      "- pepperoni\n",
      "- mushrooms\n",
      "- green peppers\n"
     ]
    }
   ],
   "source": [
    "def make_pizza(*toppings):\n",
    "    \"\"\"Print a list of toppings that have been requested for the pizza.\"\"\"\n",
    "    print(\"Making a pizza with the following toppings:\")\n",
    "    for topping in toppings:\n",
    "        print(f\"- {topping}\")\n",
    "\n",
    "# Example usage:\n",
    "make_pizza('pepperoni', 'mushrooms', 'green peppers')"
   ]
  },
  {
   "cell_type": "code",
   "execution_count": 12,
   "id": "de707fc6-08ea-4e17-b7b2-e6a5b9954606",
   "metadata": {},
   "outputs": [
    {
     "name": "stdout",
     "output_type": "stream",
     "text": [
      "{'first_name': 'Ali', 'last_name': 'Asif', 'age': 30, 'location': 'New York', 'occupation': 'Engineer'}\n"
     ]
    }
   ],
   "source": [
    "#question10\n",
    "def build_profile(first, last, **info):\n",
    "    \"\"\"Build a user profile with arbitrary additional information.\"\"\"\n",
    "    profile = {\n",
    "        'first_name': first,\n",
    "        'last_name': last,\n",
    "    }\n",
    "    \n",
    "    # Add any additional information provided in the keyword arguments\n",
    "    for key, value in info.items():\n",
    "        profile[key] = value\n",
    "    \n",
    "    return profile\n",
    "\n",
    "# Example usage:\n",
    "user_profile = build_profile('Ali', 'Asif', age=30, location='New York', occupation='Engineer')\n",
    "print(user_profile)"
   ]
  },
  {
   "cell_type": "code",
   "execution_count": null,
   "id": "16180e77-e52b-41f5-b393-bcbd3ff289b4",
   "metadata": {},
   "outputs": [],
   "source": []
  }
 ],
 "metadata": {
  "kernelspec": {
   "display_name": "Python 3 (ipykernel)",
   "language": "python",
   "name": "python3"
  },
  "language_info": {
   "codemirror_mode": {
    "name": "ipython",
    "version": 3
   },
   "file_extension": ".py",
   "mimetype": "text/x-python",
   "name": "python",
   "nbconvert_exporter": "python",
   "pygments_lexer": "ipython3",
   "version": "3.12.4"
  }
 },
 "nbformat": 4,
 "nbformat_minor": 5
}
